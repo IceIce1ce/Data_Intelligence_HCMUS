{
  "cells": [
    {
      "cell_type": "markdown",
      "source": [
        "# Modeling ODE with only absorted solar radiation to predict the change in temperature for 200 years from 1850 and visualizing the model"
      ],
      "metadata": {
        "id": "--60e6djzsjv"
      }
    },
    {
      "cell_type": "code",
      "source": [
        "#from sympy import solve\n",
        "import matplotlib.pyplot as plt\n",
        "import numpy as np\n",
        "from scipy.integrate import solve_ivp\n",
        "\n",
        "S = 1368\n",
        "α = 0.3\n",
        "absorbed_solar_radiation = S*(1 - α)/4\n",
        "temp0 = 14\n",
        "C = 51.0\n",
        "\n",
        "F = lambda t, s: (1/C) * absorbed_solar_radiation\n",
        "t_span = [0, 210]\n",
        "s0 = [temp0]\n",
        "t_eval = np.arange(0, 210, 50)\n",
        "sol = solve_ivp(F, t_span, s0, t_eval=t_eval)\n",
        "sol"
      ],
      "metadata": {
        "colab": {
          "base_uri": "https://localhost:8080/"
        },
        "id": "XTc-OKVMzs39",
        "outputId": "88f776a8-2224-4fcb-b46c-9987d4492ce4"
      },
      "execution_count": null,
      "outputs": [
        {
          "output_type": "execute_result",
          "data": {
            "text/plain": [
              "  message: 'The solver successfully reached the end of the integration interval.'\n",
              "     nfev: 32\n",
              "     njev: 0\n",
              "      nlu: 0\n",
              "      sol: None\n",
              "   status: 0\n",
              "  success: True\n",
              "        t: array([  0,  50, 100, 150, 200])\n",
              " t_events: None\n",
              "        y: array([[ 14.        , 248.70588235, 483.41176471, 718.11764706,\n",
              "        952.82352941]])\n",
              " y_events: None"
            ]
          },
          "metadata": {},
          "execution_count": 1
        }
      ]
    },
    {
      "cell_type": "code",
      "source": [
        "plt.figure(figsize=(12, 4))\n",
        "plt.subplot(121)\n",
        "plt.plot(sol.t, sol.y[0])\n",
        "plt.title('Absorbing Solar Radiation (only)')\n",
        "plt.xlabel('Years from 1850')\n",
        "plt.ylabel('Temperature °C')\n",
        "plt.show()"
      ],
      "metadata": {
        "colab": {
          "base_uri": "https://localhost:8080/",
          "height": 295
        },
        "id": "g5l-YaCLJlgv",
        "outputId": "28cf9dd9-f8f3-47ae-bfec-a0598e9b8c67"
      },
      "execution_count": null,
      "outputs": [
        {
          "output_type": "display_data",
          "data": {
            "image/png": "[encoded data removed]",
            "text/plain": [
              "<Figure size 864x288 with 1 Axes>"
            ]
          },
          "metadata": {
            "needs_background": "light"
          }
        }
      ]
    },
    {
      "cell_type": "markdown",
      "source": [
        "# Extending the model with thermal radiation and visualizing it"
      ],
      "metadata": {
        "id": "_3iVBASjOkHV"
      }
    },
    {
      "cell_type": "code",
      "source": [
        "B = 1.3\n",
        "start_temp = 14 #0->28, default: 14\n",
        "F1 = lambda t, s: (1/C) * B * (temp0-s)\n",
        "t_span = [0, 210]\n",
        "s0 = [start_temp]\n",
        "t_eval = np.arange(0, 210, 50)\n",
        "sol = solve_ivp(F1, t_span, s0, t_eval=t_eval)\n",
        "sol"
      ],
      "metadata": {
        "colab": {
          "base_uri": "https://localhost:8080/"
        },
        "id": "hnNZsVcVOkQ7",
        "outputId": "e3113b84-e422-4bd6-92bb-e7458ba83729"
      },
      "execution_count": null,
      "outputs": [
        {
          "output_type": "execute_result",
          "data": {
            "text/plain": [
              "  message: 'The solver successfully reached the end of the integration interval.'\n",
              "     nfev: 62\n",
              "     njev: 0\n",
              "      nlu: 0\n",
              "      sol: None\n",
              "   status: 0\n",
              "  success: True\n",
              "        t: array([  0,  50, 100, 150, 200])\n",
              " t_events: None\n",
              "        y: array([[14., 14., 14., 14., 14.]])\n",
              " y_events: None"
            ]
          },
          "metadata": {},
          "execution_count": 3
        }
      ]
    },
    {
      "cell_type": "code",
      "source": [
        "plt.figure(figsize=(12, 4))\n",
        "plt.subplot(121)\n",
        "plt.plot(sol.t, sol.y[0])\n",
        "plt.title('Energy Balance Model (Healthy Earth)')\n",
        "plt.xlabel('Years from start')\n",
        "plt.ylabel('Temperature °C')\n",
        "plt.ylim(0, 30)\n",
        "plt.show()"
      ],
      "metadata": {
        "colab": {
          "base_uri": "https://localhost:8080/",
          "height": 295
        },
        "id": "tK_H16cJQ8s7",
        "outputId": "0ba985f5-b270-48e4-fbc1-967c4bcf7c49"
      },
      "execution_count": null,
      "outputs": [
        {
          "output_type": "display_data",
          "data": {
            "image/png": "[encoded data removed]",
            "text/plain": [
              "<Figure size 864x288 with 1 Axes>"
            ]
          },
          "metadata": {
            "needs_background": "light"
          }
        }
      ]
    },
    {
      "cell_type": "markdown",
      "source": [
        "# Extending the model with Greenhouse Effects and visualizing it"
      ],
      "metadata": {
        "id": "scIVMcsnVxPj"
      }
    },
    {
      "cell_type": "code",
      "source": [
        "def calc_greenhouse_effect(CO2):\n",
        "  return forcing_coef*np.log(CO2/CO2_PreIndust)\n",
        "\n",
        "forcing_coef = 5.0\n",
        "CO2_PreIndust = 280.0\n",
        "calc_greenhouse_effect(CO2_PreIndust * (1 + np.power((15/220), 3)))"
      ],
      "metadata": {
        "colab": {
          "base_uri": "https://localhost:8080/"
        },
        "id": "V31vYyd-VxWI",
        "outputId": "aa2645ba-930c-439d-ae7a-2425c02f19dc"
      },
      "execution_count": null,
      "outputs": [
        {
          "output_type": "execute_result",
          "data": {
            "text/plain": [
              "0.0015845535506302491"
            ]
          },
          "metadata": {},
          "execution_count": 5
        }
      ]
    },
    {
      "cell_type": "code",
      "source": [
        "F2 = lambda t, s: (1/C) * (B * (temp0-s) + calc_greenhouse_effect(CO2_PreIndust * (1 + np.power((t/220), 3))))\n",
        "sol = solve_ivp(F2, [0, 210], [start_temp], t_eval=np.arange(0, 210, 50))\n",
        "sol"
      ],
      "metadata": {
        "colab": {
          "base_uri": "https://localhost:8080/"
        },
        "id": "II_jmGvQ0j7y",
        "outputId": "dfa73555-68cc-4723-e778-f94f0e8a06aa"
      },
      "execution_count": null,
      "outputs": [
        {
          "output_type": "execute_result",
          "data": {
            "text/plain": [
              "  message: 'The solver successfully reached the end of the integration interval.'\n",
              "     nfev: 74\n",
              "     njev: 0\n",
              "      nlu: 0\n",
              "      sol: None\n",
              "   status: 0\n",
              "  success: True\n",
              "        t: array([  0,  50, 100, 150, 200])\n",
              " t_events: None\n",
              "        y: array([[14.        , 14.00769389, 14.14788232, 14.57018498, 15.3856948 ]])\n",
              " y_events: None"
            ]
          },
          "metadata": {},
          "execution_count": 6
        }
      ]
    },
    {
      "cell_type": "code",
      "source": [
        "plt.figure(figsize=(12, 4))\n",
        "plt.subplot(121)\n",
        "plt.plot(sol.t, sol.y[0])\n",
        "plt.title('Model with CO₂')\n",
        "plt.xlabel('Years from 1850')\n",
        "plt.ylabel('Temperature °C')\n",
        "plt.ylim(10, 20)\n",
        "plt.show()"
      ],
      "metadata": {
        "colab": {
          "base_uri": "https://localhost:8080/",
          "height": 295
        },
        "id": "0fwZaRUP6zS1",
        "outputId": "298f8b90-5805-4bce-f8df-6db4e531cc9d"
      },
      "execution_count": null,
      "outputs": [
        {
          "output_type": "display_data",
          "data": {
            "image/png": "[encoded data removed]",
            "text/plain": [
              "<Figure size 864x288 with 1 Axes>"
            ]
          },
          "metadata": {
            "needs_background": "light"
          }
        }
      ]
    },
    {
      "cell_type": "code",
      "source": [
        "tmp_CO2 = []\n",
        "for i in range(1850, 2021):\n",
        "  t_year = i - 1850\n",
        "  CO2_from_1850 = CO2_PreIndust * (1 + np.power((t_year/220), 3))\n",
        "  tmp_CO2.append(CO2_from_1850)\n",
        "tmp_CO2"
      ],
      "metadata": {
        "id": "rq5RXOpl8Raq"
      },
      "execution_count": null,
      "outputs": []
    },
    {
      "cell_type": "code",
      "source": [
        "plt.figure(figsize=(12, 4))\n",
        "plt.subplot(121)\n",
        "plt.plot(range(1850, 2021), tmp_CO2)\n",
        "plt.show()"
      ],
      "metadata": {
        "colab": {
          "base_uri": "https://localhost:8080/",
          "height": 265
        },
        "id": "oKEHNSPX9TrD",
        "outputId": "e729c5dc-b6b7-421b-ad23-12a212cffdc8"
      },
      "execution_count": null,
      "outputs": [
        {
          "output_type": "display_data",
          "data": {
            "image/png": "[encoded data removed]",
            "text/plain": [
              "<Figure size 864x288 with 1 Axes>"
            ]
          },
          "metadata": {
            "needs_background": "light"
          }
        }
      ]
    },
    {
      "cell_type": "markdown",
      "source": [
        "# Compare with NASA"
      ],
      "metadata": {
        "id": "BJh4YDySAms3"
      }
    },
    {
      "cell_type": "code",
      "source": [
        "import pandas as pd\n",
        "\n",
        "url ='https://data.giss.nasa.gov/gistemp/graphs/graph_data/Global_Mean_Estimates_based_on_Land_and_Ocean_Data/graph.txt'\n",
        "df = pd.read_csv(url, skiprows=3, sep='\\s+').drop(0)\n",
        "df"
      ],
      "metadata": {
        "colab": {
          "base_uri": "https://localhost:8080/",
          "height": 423
        },
        "id": "MFFrXPW3AoB2",
        "outputId": "55071d1d-72c7-4527-8d93-bfadb1e0574c"
      },
      "execution_count": null,
      "outputs": [
        {
          "output_type": "execute_result",
          "data": {
            "text/html": [
              "\n",
              "  <div id=\"df-420212da-e6ee-4a2f-b03e-1dd1fc9be7fa\">\n",
              "    <div class=\"colab-df-container\">\n",
              "      <div>\n",
              "<style scoped>\n",
              "    .dataframe tbody tr th:only-of-type {\n",
              "        vertical-align: middle;\n",
              "    }\n",
              "\n",
              "    .dataframe tbody tr th {\n",
              "        vertical-align: top;\n",
              "    }\n",
              "\n",
              "    .dataframe thead th {\n",
              "        text-align: right;\n",
              "    }\n",
              "</style>\n",
              "<table border=\"1\" class=\"dataframe\">\n",
              "  <thead>\n",
              "    <tr style=\"text-align: right;\">\n",
              "      <th></th>\n",
              "      <th>Year</th>\n",
              "      <th>No_Smoothing</th>\n",
              "      <th>Lowess(5)</th>\n",
              "    </tr>\n",
              "  </thead>\n",
              "  <tbody>\n",
              "    <tr>\n",
              "      <th>1</th>\n",
              "      <td>1880</td>\n",
              "      <td>-0.15</td>\n",
              "      <td>-0.08</td>\n",
              "    </tr>\n",
              "    <tr>\n",
              "      <th>2</th>\n",
              "      <td>1881</td>\n",
              "      <td>-0.07</td>\n",
              "      <td>-0.12</td>\n",
              "    </tr>\n",
              "    <tr>\n",
              "      <th>3</th>\n",
              "      <td>1882</td>\n",
              "      <td>-0.10</td>\n",
              "      <td>-0.15</td>\n",
              "    </tr>\n",
              "    <tr>\n",
              "      <th>4</th>\n",
              "      <td>1883</td>\n",
              "      <td>-0.17</td>\n",
              "      <td>-0.19</td>\n",
              "    </tr>\n",
              "    <tr>\n",
              "      <th>5</th>\n",
              "      <td>1884</td>\n",
              "      <td>-0.27</td>\n",
              "      <td>-0.23</td>\n",
              "    </tr>\n",
              "    <tr>\n",
              "      <th>...</th>\n",
              "      <td>...</td>\n",
              "      <td>...</td>\n",
              "      <td>...</td>\n",
              "    </tr>\n",
              "    <tr>\n",
              "      <th>137</th>\n",
              "      <td>2016</td>\n",
              "      <td>1.02</td>\n",
              "      <td>0.88</td>\n",
              "    </tr>\n",
              "    <tr>\n",
              "      <th>138</th>\n",
              "      <td>2017</td>\n",
              "      <td>0.92</td>\n",
              "      <td>0.91</td>\n",
              "    </tr>\n",
              "    <tr>\n",
              "      <th>139</th>\n",
              "      <td>2018</td>\n",
              "      <td>0.85</td>\n",
              "      <td>0.95</td>\n",
              "    </tr>\n",
              "    <tr>\n",
              "      <th>140</th>\n",
              "      <td>2019</td>\n",
              "      <td>0.98</td>\n",
              "      <td>0.98</td>\n",
              "    </tr>\n",
              "    <tr>\n",
              "      <th>141</th>\n",
              "      <td>2020</td>\n",
              "      <td>1.02</td>\n",
              "      <td>1.01</td>\n",
              "    </tr>\n",
              "  </tbody>\n",
              "</table>\n",
              "<p>141 rows × 3 columns</p>\n",
              "</div>\n",
              "      <button class=\"colab-df-convert\" onclick=\"convertToInteractive('df-420212da-e6ee-4a2f-b03e-1dd1fc9be7fa')\"\n",
              "              title=\"Convert this dataframe to an interactive table.\"\n",
              "              style=\"display:none;\">\n",
              "        \n",
              "  <svg xmlns=\"http://www.w3.org/2000/svg\" height=\"24px\"viewBox=\"0 0 24 24\"\n",
              "       width=\"24px\">\n",
              "    <path d=\"M0 0h24v24H0V0z\" fill=\"none\"/>\n",
              "    <path d=\"M18.56 5.44l.94 2.06.94-2.06 2.06-.94-2.06-.94-.94-2.06-.94 2.06-2.06.94zm-11 1L8.5 8.5l.94-2.06 2.06-.94-2.06-.94L8.5 2.5l-.94 2.06-2.06.94zm10 10l.94 2.06.94-2.06 2.06-.94-2.06-.94-.94-2.06-.94 2.06-2.06.94z\"/><path d=\"M17.41 7.96l-1.37-1.37c-.4-.4-.92-.59-1.43-.59-.52 0-1.04.2-1.43.59L10.3 9.45l-7.72 7.72c-.78.78-.78 2.05 0 2.83L4 21.41c.39.39.9.59 1.41.59.51 0 1.02-.2 1.41-.59l7.78-7.78 2.81-2.81c.8-.78.8-2.07 0-2.86zM5.41 20L4 18.59l7.72-7.72 1.47 1.35L5.41 20z\"/>\n",
              "  </svg>\n",
              "      </button>\n",
              "      \n",
              "  <style>\n",
              "    .colab-df-container {\n",
              "      display:flex;\n",
              "      flex-wrap:wrap;\n",
              "      gap: 12px;\n",
              "    }\n",
              "\n",
              "    .colab-df-convert {\n",
              "      background-color: #E8F0FE;\n",
              "      border: none;\n",
              "      border-radius: 50%;\n",
              "      cursor: pointer;\n",
              "      display: none;\n",
              "      fill: #1967D2;\n",
              "      height: 32px;\n",
              "      padding: 0 0 0 0;\n",
              "      width: 32px;\n",
              "    }\n",
              "\n",
              "    .colab-df-convert:hover {\n",
              "      background-color: #E2EBFA;\n",
              "      box-shadow: 0px 1px 2px rgba(60, 64, 67, 0.3), 0px 1px 3px 1px rgba(60, 64, 67, 0.15);\n",
              "      fill: #174EA6;\n",
              "    }\n",
              "\n",
              "    [theme=dark] .colab-df-convert {\n",
              "      background-color: #3B4455;\n",
              "      fill: #D2E3FC;\n",
              "    }\n",
              "\n",
              "    [theme=dark] .colab-df-convert:hover {\n",
              "      background-color: #434B5C;\n",
              "      box-shadow: 0px 1px 3px 1px rgba(0, 0, 0, 0.15);\n",
              "      filter: drop-shadow(0px 1px 2px rgba(0, 0, 0, 0.3));\n",
              "      fill: #FFFFFF;\n",
              "    }\n",
              "  </style>\n",
              "\n",
              "      <script>\n",
              "        const buttonEl =\n",
              "          document.querySelector('#df-420212da-e6ee-4a2f-b03e-1dd1fc9be7fa button.colab-df-convert');\n",
              "        buttonEl.style.display =\n",
              "          google.colab.kernel.accessAllowed ? 'block' : 'none';\n",
              "\n",
              "        async function convertToInteractive(key) {\n",
              "          const element = document.querySelector('#df-420212da-e6ee-4a2f-b03e-1dd1fc9be7fa');\n",
              "          const dataTable =\n",
              "            await google.colab.kernel.invokeFunction('convertToInteractive',\n",
              "                                                     [key], {});\n",
              "          if (!dataTable) return;\n",
              "\n",
              "          const docLinkHtml = 'Like what you see? Visit the ' +\n",
              "            '<a target=\"_blank\" href=https://colab.research.google.com/notebooks/data_table.ipynb>data table notebook</a>'\n",
              "            + ' to learn more about interactive tables.';\n",
              "          element.innerHTML = '';\n",
              "          dataTable['output_type'] = 'display_data';\n",
              "          await google.colab.output.renderOutput(dataTable, element);\n",
              "          const docLink = document.createElement('div');\n",
              "          docLink.innerHTML = docLinkHtml;\n",
              "          element.appendChild(docLink);\n",
              "        }\n",
              "      </script>\n",
              "    </div>\n",
              "  </div>\n",
              "  "
            ],
            "text/plain": [
              "     Year  No_Smoothing  Lowess(5)\n",
              "1    1880         -0.15      -0.08\n",
              "2    1881         -0.07      -0.12\n",
              "3    1882         -0.10      -0.15\n",
              "4    1883         -0.17      -0.19\n",
              "5    1884         -0.27      -0.23\n",
              "..    ...           ...        ...\n",
              "137  2016          1.02       0.88\n",
              "138  2017          0.92       0.91\n",
              "139  2018          0.85       0.95\n",
              "140  2019          0.98       0.98\n",
              "141  2020          1.02       1.01\n",
              "\n",
              "[141 rows x 3 columns]"
            ]
          },
          "metadata": {},
          "execution_count": 10
        }
      ]
    },
    {
      "cell_type": "code",
      "source": [
        "df['Year'] = df['Year'].astype('float64')\n",
        "df['No_Smoothing'] = df['No_Smoothing'] + 14.15\n",
        "df"
      ],
      "metadata": {
        "colab": {
          "base_uri": "https://localhost:8080/",
          "height": 423
        },
        "id": "UA6HfOX7CAHr",
        "outputId": "ee1df730-27d5-4a2d-de58-3e0a615190d1"
      },
      "execution_count": null,
      "outputs": [
        {
          "output_type": "execute_result",
          "data": {
            "text/html": [
              "\n",
              "  <div id=\"df-90886347-c33d-4a6e-b9b4-5347137d8bb4\">\n",
              "    <div class=\"colab-df-container\">\n",
              "      <div>\n",
              "<style scoped>\n",
              "    .dataframe tbody tr th:only-of-type {\n",
              "        vertical-align: middle;\n",
              "    }\n",
              "\n",
              "    .dataframe tbody tr th {\n",
              "        vertical-align: top;\n",
              "    }\n",
              "\n",
              "    .dataframe thead th {\n",
              "        text-align: right;\n",
              "    }\n",
              "</style>\n",
              "<table border=\"1\" class=\"dataframe\">\n",
              "  <thead>\n",
              "    <tr style=\"text-align: right;\">\n",
              "      <th></th>\n",
              "      <th>Year</th>\n",
              "      <th>No_Smoothing</th>\n",
              "      <th>Lowess(5)</th>\n",
              "    </tr>\n",
              "  </thead>\n",
              "  <tbody>\n",
              "    <tr>\n",
              "      <th>1</th>\n",
              "      <td>1880.0</td>\n",
              "      <td>14.00</td>\n",
              "      <td>-0.08</td>\n",
              "    </tr>\n",
              "    <tr>\n",
              "      <th>2</th>\n",
              "      <td>1881.0</td>\n",
              "      <td>14.08</td>\n",
              "      <td>-0.12</td>\n",
              "    </tr>\n",
              "    <tr>\n",
              "      <th>3</th>\n",
              "      <td>1882.0</td>\n",
              "      <td>14.05</td>\n",
              "      <td>-0.15</td>\n",
              "    </tr>\n",
              "    <tr>\n",
              "      <th>4</th>\n",
              "      <td>1883.0</td>\n",
              "      <td>13.98</td>\n",
              "      <td>-0.19</td>\n",
              "    </tr>\n",
              "    <tr>\n",
              "      <th>5</th>\n",
              "      <td>1884.0</td>\n",
              "      <td>13.88</td>\n",
              "      <td>-0.23</td>\n",
              "    </tr>\n",
              "    <tr>\n",
              "      <th>...</th>\n",
              "      <td>...</td>\n",
              "      <td>...</td>\n",
              "      <td>...</td>\n",
              "    </tr>\n",
              "    <tr>\n",
              "      <th>137</th>\n",
              "      <td>2016.0</td>\n",
              "      <td>15.17</td>\n",
              "      <td>0.88</td>\n",
              "    </tr>\n",
              "    <tr>\n",
              "      <th>138</th>\n",
              "      <td>2017.0</td>\n",
              "      <td>15.07</td>\n",
              "      <td>0.91</td>\n",
              "    </tr>\n",
              "    <tr>\n",
              "      <th>139</th>\n",
              "      <td>2018.0</td>\n",
              "      <td>15.00</td>\n",
              "      <td>0.95</td>\n",
              "    </tr>\n",
              "    <tr>\n",
              "      <th>140</th>\n",
              "      <td>2019.0</td>\n",
              "      <td>15.13</td>\n",
              "      <td>0.98</td>\n",
              "    </tr>\n",
              "    <tr>\n",
              "      <th>141</th>\n",
              "      <td>2020.0</td>\n",
              "      <td>15.17</td>\n",
              "      <td>1.01</td>\n",
              "    </tr>\n",
              "  </tbody>\n",
              "</table>\n",
              "<p>141 rows × 3 columns</p>\n",
              "</div>\n",
              "      <button class=\"colab-df-convert\" onclick=\"convertToInteractive('df-90886347-c33d-4a6e-b9b4-5347137d8bb4')\"\n",
              "              title=\"Convert this dataframe to an interactive table.\"\n",
              "              style=\"display:none;\">\n",
              "        \n",
              "  <svg xmlns=\"http://www.w3.org/2000/svg\" height=\"24px\"viewBox=\"0 0 24 24\"\n",
              "       width=\"24px\">\n",
              "    <path d=\"M0 0h24v24H0V0z\" fill=\"none\"/>\n",
              "    <path d=\"M18.56 5.44l.94 2.06.94-2.06 2.06-.94-2.06-.94-.94-2.06-.94 2.06-2.06.94zm-11 1L8.5 8.5l.94-2.06 2.06-.94-2.06-.94L8.5 2.5l-.94 2.06-2.06.94zm10 10l.94 2.06.94-2.06 2.06-.94-2.06-.94-.94-2.06-.94 2.06-2.06.94z\"/><path d=\"M17.41 7.96l-1.37-1.37c-.4-.4-.92-.59-1.43-.59-.52 0-1.04.2-1.43.59L10.3 9.45l-7.72 7.72c-.78.78-.78 2.05 0 2.83L4 21.41c.39.39.9.59 1.41.59.51 0 1.02-.2 1.41-.59l7.78-7.78 2.81-2.81c.8-.78.8-2.07 0-2.86zM5.41 20L4 18.59l7.72-7.72 1.47 1.35L5.41 20z\"/>\n",
              "  </svg>\n",
              "      </button>\n",
              "      \n",
              "  <style>\n",
              "    .colab-df-container {\n",
              "      display:flex;\n",
              "      flex-wrap:wrap;\n",
              "      gap: 12px;\n",
              "    }\n",
              "\n",
              "    .colab-df-convert {\n",
              "      background-color: #E8F0FE;\n",
              "      border: none;\n",
              "      border-radius: 50%;\n",
              "      cursor: pointer;\n",
              "      display: none;\n",
              "      fill: #1967D2;\n",
              "      height: 32px;\n",
              "      padding: 0 0 0 0;\n",
              "      width: 32px;\n",
              "    }\n",
              "\n",
              "    .colab-df-convert:hover {\n",
              "      background-color: #E2EBFA;\n",
              "      box-shadow: 0px 1px 2px rgba(60, 64, 67, 0.3), 0px 1px 3px 1px rgba(60, 64, 67, 0.15);\n",
              "      fill: #174EA6;\n",
              "    }\n",
              "\n",
              "    [theme=dark] .colab-df-convert {\n",
              "      background-color: #3B4455;\n",
              "      fill: #D2E3FC;\n",
              "    }\n",
              "\n",
              "    [theme=dark] .colab-df-convert:hover {\n",
              "      background-color: #434B5C;\n",
              "      box-shadow: 0px 1px 3px 1px rgba(0, 0, 0, 0.15);\n",
              "      filter: drop-shadow(0px 1px 2px rgba(0, 0, 0, 0.3));\n",
              "      fill: #FFFFFF;\n",
              "    }\n",
              "  </style>\n",
              "\n",
              "      <script>\n",
              "        const buttonEl =\n",
              "          document.querySelector('#df-90886347-c33d-4a6e-b9b4-5347137d8bb4 button.colab-df-convert');\n",
              "        buttonEl.style.display =\n",
              "          google.colab.kernel.accessAllowed ? 'block' : 'none';\n",
              "\n",
              "        async function convertToInteractive(key) {\n",
              "          const element = document.querySelector('#df-90886347-c33d-4a6e-b9b4-5347137d8bb4');\n",
              "          const dataTable =\n",
              "            await google.colab.kernel.invokeFunction('convertToInteractive',\n",
              "                                                     [key], {});\n",
              "          if (!dataTable) return;\n",
              "\n",
              "          const docLinkHtml = 'Like what you see? Visit the ' +\n",
              "            '<a target=\"_blank\" href=https://colab.research.google.com/notebooks/data_table.ipynb>data table notebook</a>'\n",
              "            + ' to learn more about interactive tables.';\n",
              "          element.innerHTML = '';\n",
              "          dataTable['output_type'] = 'display_data';\n",
              "          await google.colab.output.renderOutput(dataTable, element);\n",
              "          const docLink = document.createElement('div');\n",
              "          docLink.innerHTML = docLinkHtml;\n",
              "          element.appendChild(docLink);\n",
              "        }\n",
              "      </script>\n",
              "    </div>\n",
              "  </div>\n",
              "  "
            ],
            "text/plain": [
              "       Year  No_Smoothing  Lowess(5)\n",
              "1    1880.0         14.00      -0.08\n",
              "2    1881.0         14.08      -0.12\n",
              "3    1882.0         14.05      -0.15\n",
              "4    1883.0         13.98      -0.19\n",
              "5    1884.0         13.88      -0.23\n",
              "..      ...           ...        ...\n",
              "137  2016.0         15.17       0.88\n",
              "138  2017.0         15.07       0.91\n",
              "139  2018.0         15.00       0.95\n",
              "140  2019.0         15.13       0.98\n",
              "141  2020.0         15.17       1.01\n",
              "\n",
              "[141 rows x 3 columns]"
            ]
          },
          "metadata": {},
          "execution_count": 11
        }
      ]
    },
    {
      "cell_type": "code",
      "source": [
        "BB = 1.3 #[0.0, 4.0]\n",
        "CC = 51.0 #[10.0, 200.0]\n",
        "F3 = lambda t, s: (1/CC) * (BB * (temp0-s) + calc_greenhouse_effect(CO2_PreIndust * (1 + np.power((t/220), 3))))\n",
        "solp4 = solve_ivp(F3, [0, 171], [start_temp], t_eval=np.arange(0, 171, 1))\n",
        "solp4"
      ],
      "metadata": {
        "colab": {
          "base_uri": "https://localhost:8080/"
        },
        "id": "Jr-zeWzNF8C6",
        "outputId": "4b1a1476-0d0f-4752-d7ba-1115ed4bb904"
      },
      "execution_count": null,
      "outputs": [
        {
          "output_type": "execute_result",
          "data": {
            "text/plain": [
              "  message: 'The solver successfully reached the end of the integration interval.'\n",
              "     nfev: 62\n",
              "     njev: 0\n",
              "      nlu: 0\n",
              "      sol: None\n",
              "   status: 0\n",
              "  success: True\n",
              "        t: array([  0,   1,   2,   3,   4,   5,   6,   7,   8,   9,  10,  11,  12,\n",
              "        13,  14,  15,  16,  17,  18,  19,  20,  21,  22,  23,  24,  25,\n",
              "        26,  27,  28,  29,  30,  31,  32,  33,  34,  35,  36,  37,  38,\n",
              "        39,  40,  41,  42,  43,  44,  45,  46,  47,  48,  49,  50,  51,\n",
              "        52,  53,  54,  55,  56,  57,  58,  59,  60,  61,  62,  63,  64,\n",
              "        65,  66,  67,  68,  69,  70,  71,  72,  73,  74,  75,  76,  77,\n",
              "        78,  79,  80,  81,  82,  83,  84,  85,  86,  87,  88,  89,  90,\n",
              "        91,  92,  93,  94,  95,  96,  97,  98,  99, 100, 101, 102, 103,\n",
              "       104, 105, 106, 107, 108, 109, 110, 111, 112, 113, 114, 115, 116,\n",
              "       117, 118, 119, 120, 121, 122, 123, 124, 125, 126, 127, 128, 129,\n",
              "       130, 131, 132, 133, 134, 135, 136, 137, 138, 139, 140, 141, 142,\n",
              "       143, 144, 145, 146, 147, 148, 149, 150, 151, 152, 153, 154, 155,\n",
              "       156, 157, 158, 159, 160, 161, 162, 163, 164, 165, 166, 167, 168,\n",
              "       169, 170])\n",
              " t_events: None\n",
              "        y: array([[14.        , 14.        , 14.00000003, 14.00000018, 14.00000057,\n",
              "        14.0000014 , 14.00000289, 14.00000534, 14.00000907, 14.00001444,\n",
              "        14.0000219 , 14.0000319 , 14.00003714, 14.00002733, 14.00000454,\n",
              "        13.99997096, 13.99992878, 13.99988014, 13.99982717, 13.99977201,\n",
              "        13.99971674, 13.99966346, 13.99961422, 13.99957108, 13.99953606,\n",
              "        13.99951117, 13.9994984 , 13.99949974, 13.99951713, 13.99955252,\n",
              "        13.99960782, 13.99968494, 13.99978576, 13.99991215, 14.00006596,\n",
              "        14.00024901, 14.00046312, 14.00071009, 14.00099168, 14.00130967,\n",
              "        14.00166578, 14.00206174, 14.00249926, 14.00298001, 14.00350568,\n",
              "        14.0040779 , 14.00469832, 14.00536854, 14.00609016, 14.00686476,\n",
              "        14.00769389, 14.00857911, 14.00952193, 14.01052387, 14.0115864 ,\n",
              "        14.01271099, 14.01389911, 14.01515218, 14.01647162, 14.01785882,\n",
              "        14.01931518, 14.02084203, 14.02244074, 14.02411263, 14.025859  ,\n",
              "        14.02768115, 14.02958034, 14.03155782, 14.03361485, 14.03575262,\n",
              "        14.03797235, 14.0402752 , 14.04266236, 14.04513495, 14.04769411,\n",
              "        14.05034095, 14.05307655, 14.055902  , 14.05881835, 14.06182663,\n",
              "        14.06492786, 14.06812304, 14.07141316, 14.07479919, 14.07828206,\n",
              "        14.08186271, 14.08554205, 14.08932097, 14.09320035, 14.09718104,\n",
              "        14.10126388, 14.1054497 , 14.10973929, 14.11413344, 14.11863292,\n",
              "        14.12323847, 14.12795083, 14.13277071, 14.1376988 , 14.14273578,\n",
              "        14.14788232, 14.15313904, 14.15850657, 14.16398551, 14.16957646,\n",
              "        14.17527999, 14.18109663, 14.18702692, 14.19307138, 14.19923051,\n",
              "        14.20550478, 14.21189465, 14.21840124, 14.22502766, 14.23177706,\n",
              "        14.23865248, 14.24565686, 14.25279302, 14.26006368, 14.26747146,\n",
              "        14.27501886, 14.28270829, 14.29054204, 14.2985223 , 14.30665115,\n",
              "        14.31493057, 14.32336243, 14.33194849, 14.3406904 , 14.34958973,\n",
              "        14.3586479 , 14.36786626, 14.37724604, 14.38678836, 14.39649424,\n",
              "        14.40636459, 14.41640023, 14.42660183, 14.43697001, 14.44750524,\n",
              "        14.4582079 , 14.46907827, 14.48011651, 14.49132268, 14.50269674,\n",
              "        14.51423853, 14.52594779, 14.53782417, 14.54986718, 14.56207625,\n",
              "        14.57445069, 14.58698971, 14.59969241, 14.6125578 , 14.62558475,\n",
              "        14.63877205, 14.65211839, 14.66562232, 14.67928231, 14.69309672,\n",
              "        14.70706379, 14.72118169, 14.73544843, 14.74986196, 14.76442009,\n",
              "        14.77912055, 14.79396095, 14.80893879, 14.82405148, 14.8392963 ,\n",
              "        14.85467045]])\n",
              " y_events: None"
            ]
          },
          "metadata": {},
          "execution_count": 12
        }
      ]
    },
    {
      "cell_type": "code",
      "source": [
        "plt.figure(figsize=(16, 4))\n",
        "plt.subplot(121)\n",
        "plt.plot(df['Year'].tolist(), df['No_Smoothing'].tolist(), label='NASA Observations')\n",
        "plt.plot(range(1850, 2021), solp4.y[0], label='Predicted Temperature from model')\n",
        "plt.xlabel('Years')\n",
        "plt.ylabel('Temp °C')\n",
        "plt.legend()\n",
        "plt.show()"
      ],
      "metadata": {
        "colab": {
          "base_uri": "https://localhost:8080/",
          "height": 279
        },
        "id": "Vx23zpSgDGOf",
        "outputId": "bb8be20d-038f-456d-f2ea-99b4e1f190eb"
      },
      "execution_count": null,
      "outputs": [
        {
          "output_type": "display_data",
          "data": {
            "image/png": "[encoded data removed]",
            "text/plain": [
              "<Figure size 1152x288 with 1 Axes>"
            ]
          },
          "metadata": {
            "needs_background": "light"
          }
        }
      ]
    },
    {
      "cell_type": "markdown",
      "source": [
        "# Improving the model"
      ],
      "metadata": {
        "id": "nm1D_GeQuBPQ"
      }
    },
    {
      "cell_type": "code",
      "source": [
        "def calc_alpha(T, alpha_0=0.3, alpha_i=0.5, delta_T=10.0):\n",
        "  if T < -delta_T:\n",
        "    return alpha_i\n",
        "  elif -delta_T <= T < delta_T:\n",
        "    return alpha_i + (alpha_0 - alpha_i) * (T + delta_T) / (2 * delta_T)\n",
        "  elif T >= delta_T:\n",
        "    return alpha_0\n",
        "\n",
        "F_final = lambda t, s: ((1/85.0) * (BB * (temp0 - s) + \\\n",
        "                       calc_greenhouse_effect(CO2_PreIndust * (1 + np.power((t/220), 3))))) * ((1/85.0) * (S * (1 - calc_alpha(t))/4))\n",
        "solp_final = solve_ivp(F_final, [0, 171], [start_temp], t_eval=np.arange(0, 171, 1))\n",
        "solp_final"
      ],
      "metadata": {
        "colab": {
          "base_uri": "https://localhost:8080/"
        },
        "id": "ttDjC_12uANe",
        "outputId": "6dc5823b-7a11-4220-9713-864c7781d724"
      },
      "execution_count": null,
      "outputs": [
        {
          "output_type": "execute_result",
          "data": {
            "text/plain": [
              "  message: 'The solver successfully reached the end of the integration interval.'\n",
              "     nfev: 80\n",
              "     njev: 0\n",
              "      nlu: 0\n",
              "      sol: None\n",
              "   status: 0\n",
              "  success: True\n",
              "        t: array([  0,   1,   2,   3,   4,   5,   6,   7,   8,   9,  10,  11,  12,\n",
              "        13,  14,  15,  16,  17,  18,  19,  20,  21,  22,  23,  24,  25,\n",
              "        26,  27,  28,  29,  30,  31,  32,  33,  34,  35,  36,  37,  38,\n",
              "        39,  40,  41,  42,  43,  44,  45,  46,  47,  48,  49,  50,  51,\n",
              "        52,  53,  54,  55,  56,  57,  58,  59,  60,  61,  62,  63,  64,\n",
              "        65,  66,  67,  68,  69,  70,  71,  72,  73,  74,  75,  76,  77,\n",
              "        78,  79,  80,  81,  82,  83,  84,  85,  86,  87,  88,  89,  90,\n",
              "        91,  92,  93,  94,  95,  96,  97,  98,  99, 100, 101, 102, 103,\n",
              "       104, 105, 106, 107, 108, 109, 110, 111, 112, 113, 114, 115, 116,\n",
              "       117, 118, 119, 120, 121, 122, 123, 124, 125, 126, 127, 128, 129,\n",
              "       130, 131, 132, 133, 134, 135, 136, 137, 138, 139, 140, 141, 142,\n",
              "       143, 144, 145, 146, 147, 148, 149, 150, 151, 152, 153, 154, 155,\n",
              "       156, 157, 158, 159, 160, 161, 162, 163, 164, 165, 166, 167, 168,\n",
              "       169, 170])\n",
              " t_events: None\n",
              "        y: array([[14.        , 14.        , 14.00000006, 14.00000029, 14.00000091,\n",
              "        14.00000219, 14.00000452, 14.00000835, 14.00001423, 14.00002278,\n",
              "        14.00003471, 14.00005083, 14.00005407, 14.00002087, 13.99995628,\n",
              "        13.99986551, 13.99975369, 13.99962581, 13.99948676, 13.9993413 ,\n",
              "        13.99919411, 13.99904971, 13.99891255, 13.99878694, 13.99867707,\n",
              "        13.99858704, 13.99852083, 13.99848229, 13.99847517, 13.99850311,\n",
              "        13.99856962, 13.99867811, 13.99883187, 13.99903408, 13.99928781,\n",
              "        13.99959599, 13.99996148, 14.00038699, 14.00087513, 14.0014284 ,\n",
              "        14.00204917, 14.00273972, 14.00350219, 14.00433863, 14.00525097,\n",
              "        14.00624101, 14.00731045, 14.00846087, 14.00969376, 14.01101046,\n",
              "        14.01241221, 14.01390015, 14.01547529, 14.01713853, 14.01889066,\n",
              "        14.02073235, 14.02266417, 14.02468655, 14.02679982, 14.02900422,\n",
              "        14.03129984, 14.03368667, 14.03616459, 14.03873336, 14.04139263,\n",
              "        14.04414194, 14.04698071, 14.04990824, 14.05292372, 14.05602625,\n",
              "        14.05921478, 14.06248816, 14.06584514, 14.06928434, 14.07280426,\n",
              "        14.07640331, 14.08007977, 14.08383181, 14.08765748, 14.09155473,\n",
              "        14.09552138, 14.09955514, 14.10365362, 14.1078143 , 14.11203455,\n",
              "        14.11631164, 14.12064183, 14.12502717, 14.12947985, 14.13401192,\n",
              "        14.13863493, 14.14335987, 14.1481972 , 14.15315684, 14.15824818,\n",
              "        14.16348008, 14.16886084, 14.17439823, 14.18009951, 14.18597137,\n",
              "        14.19201997, 14.19825095, 14.20466941, 14.21127988, 14.2180864 ,\n",
              "        14.22509244, 14.23230096, 14.23971435, 14.24733449, 14.25516272,\n",
              "        14.26319984, 14.2714461 , 14.27990123, 14.28856441, 14.29743431,\n",
              "        14.30650903, 14.31578616, 14.32526272, 14.33493523, 14.34479966,\n",
              "        14.35485143, 14.36508544, 14.37549605, 14.38607707, 14.39682179,\n",
              "        14.40772295, 14.41877277, 14.42996292, 14.44128454, 14.45272822,\n",
              "        14.46428403, 14.4759415 , 14.48768961, 14.49951682, 14.51141103,\n",
              "        14.52335965, 14.53536231, 14.54750225, 14.55980046, 14.57226096,\n",
              "        14.58488746, 14.59768334, 14.61065168, 14.62379525, 14.63711647,\n",
              "        14.65061747, 14.66430006, 14.67816573, 14.69221564, 14.70645066,\n",
              "        14.72087133, 14.73547786, 14.75027016, 14.76524782, 14.78041012,\n",
              "        14.795756  , 14.8112841 , 14.82699275, 14.84287995, 14.85894338,\n",
              "        14.87518043, 14.89158813, 14.90816323, 14.92490215, 14.94180099,\n",
              "        14.95885554, 14.97606126, 14.99341332, 15.01090654, 15.02853544,\n",
              "        15.04629424]])\n",
              " y_events: None"
            ]
          },
          "metadata": {},
          "execution_count": 113
        }
      ]
    },
    {
      "cell_type": "code",
      "source": [
        "plt.figure(figsize=(16, 4))\n",
        "plt.subplot(121)\n",
        "plt.plot(df['Year'].tolist(), df['No_Smoothing'].tolist(), label='NASA Observations')\n",
        "plt.plot(range(1850, 2021), solp_final.y[0], label='Predicted Temperature from improved model')\n",
        "plt.xlabel('Years')\n",
        "plt.ylabel('Temp °C')\n",
        "plt.legend()\n",
        "plt.show()"
      ],
      "metadata": {
        "colab": {
          "base_uri": "https://localhost:8080/",
          "height": 279
        },
        "id": "z0QAGZwy7oef",
        "outputId": "eb0eff84-315f-48a9-d681-c1bf2f42fb93"
      },
      "execution_count": null,
      "outputs": [
        {
          "output_type": "display_data",
          "data": {
            "image/png": "[encoded data removed]",
            "text/plain": [
              "<Figure size 1152x288 with 1 Axes>"
            ]
          },
          "metadata": {
            "needs_background": "light"
          }
        }
      ]
    }
  ],
  "metadata": {
    "colab": {
      "collapsed_sections": [],
      "name": "Weather_Prediction.ipynb",
      "provenance": []
    },
    "kernelspec": {
      "display_name": "Python 3",
      "name": "python3"
    },
    "language_info": {
      "name": "python"
    }
  },
  "nbformat": 4,
  "nbformat_minor": 0
}